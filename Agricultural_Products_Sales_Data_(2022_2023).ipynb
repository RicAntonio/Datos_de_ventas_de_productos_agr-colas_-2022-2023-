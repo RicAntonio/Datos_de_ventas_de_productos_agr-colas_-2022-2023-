{
  "nbformat": 4,
  "nbformat_minor": 0,
  "metadata": {
    "colab": {
      "provenance": [],
      "authorship_tag": "ABX9TyNxHRC6U8zHlxIm9mldLAQ1",
      "include_colab_link": true
    },
    "kernelspec": {
      "name": "python3",
      "display_name": "Python 3"
    },
    "language_info": {
      "name": "python"
    }
  },
  "cells": [
    {
      "cell_type": "markdown",
      "metadata": {
        "id": "view-in-github",
        "colab_type": "text"
      },
      "source": [
        "<a href=\"https://colab.research.google.com/github/RicAntonio/Datos_de_ventas_de_productos_agr-colas_-2022-2023-/blob/main/Agricultural_Products_Sales_Data_(2022_2023).ipynb\" target=\"_parent\"><img src=\"https://colab.research.google.com/assets/colab-badge.svg\" alt=\"Open In Colab\"/></a>"
      ]
    },
    {
      "cell_type": "markdown",
      "source": [
        "Datos de ventas de productos agrícolas (2022-2023)"
      ],
      "metadata": {
        "id": "2eISj-vUXPYu"
      }
    },
    {
      "cell_type": "code",
      "source": [
        "import pandas as pd\n",
        "from google.colab import drive\n",
        "\n",
        "# Montar Google Drive\n",
        "drive.mount('/content/drive', force_remount=True)\n",
        "\n",
        "# Ruta a los archivos en Drive\n",
        "input_filepath = '/content/drive/My Drive/Agricultural_sales_2022-2023.csv'\n",
        "output_filepath = '/content/drive/My Drive/agricultural_features.csv'\n",
        "\n",
        "# 1. Cargar datos desde el CSV de Google Drive\n",
        "def load_data(filepath):\n",
        "    return pd.read_csv(filepath)\n",
        "\n",
        "# 2. Realizar ingeniería de características\n",
        "def engineer_features(df):\n",
        "    df['sales_growth'] = df['units_sold_kg'] / df['units_on_hand_kg'].shift(1)  # Creación de tasa de crecimiento de ventas\n",
        "    df = pd.get_dummies(df, columns=['product_id', 'category'])  # Convertir categóricas a dummies\n",
        "    df = df.fillna(0)  # Rellenar NaNs\n",
        "    return df\n",
        "\n",
        "# 3. Guardar las características en Google Drive\n",
        "def save_features(features, output_filepath):\n",
        "    features.to_csv(output_filepath, index=False)\n",
        "\n",
        "# Pipeline\n",
        "df = load_data(input_filepath)\n",
        "features = engineer_features(df)\n",
        "save_features(features, output_filepath)\n",
        "\n",
        "print(f\"Características guardadas en: {output_filepath}\")\n"
      ],
      "metadata": {
        "colab": {
          "base_uri": "https://localhost:8080/"
        },
        "id": "o3cNwDE5Wl11",
        "outputId": "262ae6f0-b831-42e8-8359-332b872a2e2d"
      },
      "execution_count": null,
      "outputs": [
        {
          "output_type": "stream",
          "name": "stdout",
          "text": [
            "Mounted at /content/drive\n",
            "Características guardadas en: /content/drive/My Drive/agricultural_features.csv\n"
          ]
        }
      ]
    },
    {
      "cell_type": "code",
      "source": [
        "import pandas as pd\n",
        "from sklearn.model_selection import train_test_split\n",
        "from sklearn.ensemble import RandomForestRegressor\n",
        "import pickle\n",
        "from google.colab import drive\n",
        "import numpy as np\n",
        "\n",
        "# Montar Google Drive\n",
        "drive.mount('/content/drive', force_remount=True)\n",
        "\n",
        "# Rutas a los archivos en Google Drive\n",
        "features_filepath = '/content/drive/My Drive/agricultural_features.csv'\n",
        "model_output_filepath = '/content/drive/My Drive/agricultural_sales_model.pkl'\n",
        "\n",
        "# 1. Cargar las características desde Google Drive\n",
        "def load_features(filepath):\n",
        "    return pd.read_csv(filepath)\n",
        "\n",
        "# 2. Preprocesar datos: convertir categóricas a variables numéricas (one-hot encoding)\n",
        "#    y manejar valores no finitos (NaN, Inf)\n",
        "def preprocess_features(df):\n",
        "    # Convertir todas las columnas categóricas a numéricas con pd.get_dummies()\n",
        "    df = pd.get_dummies(df, drop_first=True)  # Utiliza one-hot encoding\n",
        "\n",
        "    # Manejar valores no finitos (NaN o Inf)\n",
        "    df.replace([np.inf, -np.inf], np.nan, inplace=True)  # Reemplaza Inf por NaN\n",
        "    df.fillna(df.median(), inplace=True)  # Rellena NaN con la mediana de cada columna\n",
        "\n",
        "    return df\n",
        "\n",
        "# 3. Entrenar el modelo\n",
        "def train_model(features):\n",
        "    # Suponiendo que 'units_sold_kg' es la variable que quieres predecir\n",
        "    X = features.drop('units_sold_kg', axis=1)  # Excluye la columna de ventas\n",
        "    y = features['units_sold_kg']  # Columna objetivo\n",
        "\n",
        "    # Dividir los datos en entrenamiento y prueba\n",
        "    X_train, X_test, y_train, y_test = train_test_split(X, y, test_size=0.2, random_state=42)\n",
        "\n",
        "    # Entrenar el modelo\n",
        "    model = RandomForestRegressor()\n",
        "    model.fit(X_train, y_train)\n",
        "\n",
        "    return model\n",
        "\n",
        "# 4. Guardar el modelo en Google Drive\n",
        "def save_model(model, output_filepath):\n",
        "    with open(output_filepath, 'wb') as f:\n",
        "        pickle.dump(model, f)\n",
        "\n",
        "# Pipeline\n",
        "features = load_features(features_filepath)\n",
        "features = preprocess_features(features)  # Asegurarse de convertir categóricas a numéricas y manejar NaN/Inf\n",
        "model = train_model(features)\n",
        "save_model(model, model_output_filepath)\n",
        "\n",
        "print(f\"Modelo guardado en: {model_output_filepath}\")\n"
      ],
      "metadata": {
        "colab": {
          "base_uri": "https://localhost:8080/"
        },
        "id": "aMgtjEA7fdAi",
        "outputId": "e64de0de-3734-4ae0-e436-d7c89deb1c5a"
      },
      "execution_count": null,
      "outputs": [
        {
          "output_type": "stream",
          "name": "stdout",
          "text": [
            "Mounted at /content/drive\n",
            "Modelo guardado en: /content/drive/My Drive/agricultural_sales_model.pkl\n"
          ]
        }
      ]
    },
    {
      "cell_type": "code",
      "source": [
        "import pandas as pd\n",
        "import numpy as np\n",
        "import pickle\n",
        "from google.colab import drive\n",
        "\n",
        "# Montar Google Drive\n",
        "drive.mount('/content/drive', force_remount=True)\n",
        "\n",
        "# Rutas a los archivos en Google Drive\n",
        "model_filepath = '/content/drive/My Drive/agricultural_sales_model.pkl'\n",
        "features_filepath = '/content/drive/My Drive/agricultural_features.csv'\n",
        "predictions_output_filepath = '/content/drive/My Drive/agricultural_sales_predictions.csv'\n",
        "\n",
        "# 1. Cargar el modelo desde Google Drive\n",
        "def load_model(filepath):\n",
        "    with open(filepath, 'rb') as f:\n",
        "        return pickle.load(f)\n",
        "\n",
        "# 2. Cargar las características más recientes desde Google Drive\n",
        "def load_features(filepath):\n",
        "    return pd.read_csv(filepath)\n",
        "\n",
        "# 3. Generar predicciones\n",
        "def generate_predictions(model, features):\n",
        "    # Obtener las columnas que el modelo espera\n",
        "    expected_features = model.feature_names_in_\n",
        "\n",
        "    # Crear un DataFrame con las características faltantes\n",
        "    missing_features = [feature for feature in expected_features if feature not in features.columns]\n",
        "    missing_df = pd.DataFrame(0, index=features.index, columns=missing_features)\n",
        "\n",
        "    # Concatenar el DataFrame original con las columnas faltantes\n",
        "    features = pd.concat([features, missing_df], axis=1)\n",
        "\n",
        "    # Mantener solo las columnas que el modelo espera y en el orden correcto\n",
        "    features = features[expected_features]\n",
        "\n",
        "    # Verificar y manejar valores infinitos o NaNs solo en columnas numéricas\n",
        "    numeric_features = features.select_dtypes(include=[np.number])\n",
        "\n",
        "    if not np.isfinite(numeric_features.values).all():  # Verificar todos los valores numéricos\n",
        "        features = features.fillna(0)  # Rellenar NaNs con 0\n",
        "        features = features.replace([np.inf, -np.inf], 0)  # Reemplazar infinitos con 0\n",
        "\n",
        "    predictions = model.predict(features)\n",
        "    return predictions\n",
        "\n",
        "# 4. Guardar las predicciones en Google Drive\n",
        "def save_predictions(predictions, output_filepath):\n",
        "    pd.DataFrame(predictions, columns=['predicted_sales']).to_csv(output_filepath, index=False)\n",
        "\n",
        "# Pipeline\n",
        "model = load_model(model_filepath)\n",
        "features = load_features(features_filepath)\n",
        "predictions = generate_predictions(model, features)\n",
        "save_predictions(predictions, predictions_output_filepath)\n",
        "\n",
        "print(f\"Predicciones guardadas en: {predictions_output_filepath}\")\n"
      ],
      "metadata": {
        "colab": {
          "base_uri": "https://localhost:8080/"
        },
        "id": "phA_kJWGss7R",
        "outputId": "23094265-6bbb-44a4-9d64-d580a9eb6829"
      },
      "execution_count": null,
      "outputs": [
        {
          "output_type": "stream",
          "name": "stdout",
          "text": [
            "Mounted at /content/drive\n",
            "Predicciones guardadas en: /content/drive/My Drive/agricultural_sales_predictions.csv\n"
          ]
        }
      ]
    }
  ]
}